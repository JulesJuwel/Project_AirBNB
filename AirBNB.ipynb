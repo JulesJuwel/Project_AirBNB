{
 "cells": [
  {
   "cell_type": "markdown",
   "id": "consecutive-guide",
   "metadata": {},
   "source": [
    "# AirBNB"
   ]
  },
  {
   "cell_type": "markdown",
   "id": "cutting-bibliography",
   "metadata": {},
   "source": [
    "## by Julia Gilly"
   ]
  },
  {
   "cell_type": "markdown",
   "id": "secondary-essence",
   "metadata": {},
   "source": [
    "## 1. Questions"
   ]
  },
  {
   "cell_type": "markdown",
   "id": "national-certificate",
   "metadata": {},
   "source": [
    "- *What parameters influence the Price?*\n",
    "- *Are the reviews relevant for a better price?*\n",
    "- *Is there a way to pedict the price for a new AirBNB room?*"
   ]
  },
  {
   "cell_type": "code",
   "execution_count": 337,
   "id": "anticipated-decline",
   "metadata": {},
   "outputs": [],
   "source": [
    "#import all packages \n",
    "import numpy as np\n",
    "import pandas as pd\n",
    "import matplotlib.pyplot as plt\n",
    "import seaborn as sb\n",
    "from sklearn.linear_model import LinearRegression\n",
    "from sklearn.model_selection import train_test_split\n",
    "from sklearn.metrics import r2_score, mean_squared_error\n",
    "\n",
    "%matplotlib inline"
   ]
  },
  {
   "cell_type": "markdown",
   "id": "killing-harbor",
   "metadata": {},
   "source": [
    "## 2. Data Wrangling"
   ]
  },
  {
   "cell_type": "markdown",
   "id": "unavailable-offense",
   "metadata": {},
   "source": [
    "### 2.1 Gather necessary data"
   ]
  },
  {
   "cell_type": "code",
   "execution_count": 338,
   "id": "stupid-nation",
   "metadata": {},
   "outputs": [],
   "source": [
    "#Boston data\n",
    "\n",
    "df_B_calender = pd.read_csv('Boston/calendar.csv')\n",
    "df_B_listing = pd.read_csv('Boston/listings.csv')\n",
    "df_B_review = pd.read_csv('Boston/reviews.csv')"
   ]
  },
  {
   "cell_type": "code",
   "execution_count": 339,
   "id": "structural-garlic",
   "metadata": {},
   "outputs": [],
   "source": [
    "# Seattle data\n",
    "\n",
    "df_S_calender = pd.read_csv('Seattle/calendar.csv')\n",
    "df_S_listing = pd.read_csv('Seattle/listings.csv')\n",
    "df_S_review = pd.read_csv('Seattle/reviews.csv')"
   ]
  },
  {
   "cell_type": "code",
   "execution_count": 340,
   "id": "weekly-thermal",
   "metadata": {},
   "outputs": [
    {
     "data": {
      "text/plain": [
       "(3585, 95)"
      ]
     },
     "execution_count": 340,
     "metadata": {},
     "output_type": "execute_result"
    }
   ],
   "source": [
    "df_B_listing.shape"
   ]
  },
  {
   "cell_type": "code",
   "execution_count": 341,
   "id": "copyrighted-buyer",
   "metadata": {},
   "outputs": [
    {
     "data": {
      "text/plain": [
       "(3818, 92)"
      ]
     },
     "execution_count": 341,
     "metadata": {},
     "output_type": "execute_result"
    }
   ],
   "source": [
    "df_S_listing.shape"
   ]
  },
  {
   "cell_type": "code",
   "execution_count": 342,
   "id": "false-merchandise",
   "metadata": {},
   "outputs": [],
   "source": [
    "# put listings data together so that the two cities  are comparable\n",
    "\n",
    "df_list = pd.concat([df_B_listing, df_S_listing], axis =0)"
   ]
  },
  {
   "cell_type": "code",
   "execution_count": 343,
   "id": "french-qualification",
   "metadata": {},
   "outputs": [
    {
     "data": {
      "text/plain": [
       "(7403, 95)"
      ]
     },
     "execution_count": 343,
     "metadata": {},
     "output_type": "execute_result"
    }
   ],
   "source": [
    "df_list.shape"
   ]
  },
  {
   "cell_type": "markdown",
   "id": "tamil-heather",
   "metadata": {},
   "source": [
    "*Finding: Data from Boston has three more coloumns than data formm Seattle*"
   ]
  },
  {
   "cell_type": "markdown",
   "id": "million-houston",
   "metadata": {},
   "source": [
    "### 2.2 Assess data"
   ]
  },
  {
   "cell_type": "code",
   "execution_count": 344,
   "id": "threaded-equation",
   "metadata": {},
   "outputs": [
    {
     "name": "stdout",
     "output_type": "stream",
     "text": [
      "<class 'pandas.core.frame.DataFrame'>\n",
      "Int64Index: 7403 entries, 0 to 3817\n",
      "Data columns (total 95 columns):\n",
      " #   Column                            Non-Null Count  Dtype  \n",
      "---  ------                            --------------  -----  \n",
      " 0   id                                7403 non-null   int64  \n",
      " 1   listing_url                       7403 non-null   object \n",
      " 2   scrape_id                         7403 non-null   int64  \n",
      " 3   last_scraped                      7403 non-null   object \n",
      " 4   name                              7403 non-null   object \n",
      " 5   summary                           7083 non-null   object \n",
      " 6   space                             5777 non-null   object \n",
      " 7   description                       7403 non-null   object \n",
      " 8   experiences_offered               7403 non-null   object \n",
      " 9   neighborhood_overview             4956 non-null   object \n",
      " 10  notes                             3822 non-null   object \n",
      " 11  transit                           5179 non-null   object \n",
      " 12  access                            2096 non-null   object \n",
      " 13  interaction                       2031 non-null   object \n",
      " 14  house_rules                       2393 non-null   object \n",
      " 15  thumbnail_url                     6484 non-null   object \n",
      " 16  medium_url                        6484 non-null   object \n",
      " 17  picture_url                       7403 non-null   object \n",
      " 18  xl_picture_url                    6484 non-null   object \n",
      " 19  host_id                           7403 non-null   int64  \n",
      " 20  host_url                          7403 non-null   object \n",
      " 21  host_name                         7401 non-null   object \n",
      " 22  host_since                        7401 non-null   object \n",
      " 23  host_location                     7384 non-null   object \n",
      " 24  host_about                        5235 non-null   object \n",
      " 25  host_response_time                6409 non-null   object \n",
      " 26  host_response_rate                6409 non-null   object \n",
      " 27  host_acceptance_rate              6159 non-null   object \n",
      " 28  host_is_superhost                 7401 non-null   object \n",
      " 29  host_thumbnail_url                7401 non-null   object \n",
      " 30  host_picture_url                  7401 non-null   object \n",
      " 31  host_neighbourhood                6764 non-null   object \n",
      " 32  host_listings_count               7401 non-null   float64\n",
      " 33  host_total_listings_count         7401 non-null   float64\n",
      " 34  host_verifications                7403 non-null   object \n",
      " 35  host_has_profile_pic              7401 non-null   object \n",
      " 36  host_identity_verified            7401 non-null   object \n",
      " 37  street                            7403 non-null   object \n",
      " 38  neighbourhood                     6444 non-null   object \n",
      " 39  neighbourhood_cleansed            7403 non-null   object \n",
      " 40  neighbourhood_group_cleansed      3818 non-null   object \n",
      " 41  city                              7401 non-null   object \n",
      " 42  state                             7403 non-null   object \n",
      " 43  zipcode                           7358 non-null   object \n",
      " 44  market                            7389 non-null   object \n",
      " 45  smart_location                    7403 non-null   object \n",
      " 46  country_code                      7403 non-null   object \n",
      " 47  country                           7403 non-null   object \n",
      " 48  latitude                          7403 non-null   float64\n",
      " 49  longitude                         7403 non-null   float64\n",
      " 50  is_location_exact                 7403 non-null   object \n",
      " 51  property_type                     7399 non-null   object \n",
      " 52  room_type                         7403 non-null   object \n",
      " 53  accommodates                      7403 non-null   int64  \n",
      " 54  bathrooms                         7373 non-null   float64\n",
      " 55  bedrooms                          7387 non-null   float64\n",
      " 56  beds                              7393 non-null   float64\n",
      " 57  bed_type                          7403 non-null   object \n",
      " 58  amenities                         7403 non-null   object \n",
      " 59  square_feet                       153 non-null    float64\n",
      " 60  price                             7403 non-null   object \n",
      " 61  weekly_price                      2901 non-null   object \n",
      " 62  monthly_price                     2405 non-null   object \n",
      " 63  security_deposit                  3208 non-null   object \n",
      " 64  cleaning_fee                      5266 non-null   object \n",
      " 65  guests_included                   7403 non-null   int64  \n",
      " 66  extra_people                      7403 non-null   object \n",
      " 67  minimum_nights                    7403 non-null   int64  \n",
      " 68  maximum_nights                    7403 non-null   int64  \n",
      " 69  calendar_updated                  7403 non-null   object \n",
      " 70  has_availability                  3818 non-null   object \n",
      " 71  availability_30                   7403 non-null   int64  \n",
      " 72  availability_60                   7403 non-null   int64  \n",
      " 73  availability_90                   7403 non-null   int64  \n",
      " 74  availability_365                  7403 non-null   int64  \n",
      " 75  calendar_last_scraped             7403 non-null   object \n",
      " 76  number_of_reviews                 7403 non-null   int64  \n",
      " 77  first_review                      6020 non-null   object \n",
      " 78  last_review                       6020 non-null   object \n",
      " 79  review_scores_rating              5943 non-null   float64\n",
      " 80  review_scores_accuracy            5922 non-null   float64\n",
      " 81  review_scores_cleanliness         5932 non-null   float64\n",
      " 82  review_scores_checkin             5925 non-null   float64\n",
      " 83  review_scores_communication       5934 non-null   float64\n",
      " 84  review_scores_location            5926 non-null   float64\n",
      " 85  review_scores_value               5926 non-null   float64\n",
      " 86  requires_license                  7403 non-null   object \n",
      " 87  license                           0 non-null      float64\n",
      " 88  jurisdiction_names                3818 non-null   object \n",
      " 89  instant_bookable                  7403 non-null   object \n",
      " 90  cancellation_policy               7403 non-null   object \n",
      " 91  require_guest_profile_picture     7403 non-null   object \n",
      " 92  require_guest_phone_verification  7403 non-null   object \n",
      " 93  calculated_host_listings_count    7403 non-null   int64  \n",
      " 94  reviews_per_month                 6020 non-null   float64\n",
      "dtypes: float64(17), int64(13), object(65)\n",
      "memory usage: 5.4+ MB\n"
     ]
    }
   ],
   "source": [
    "df_list.info()"
   ]
  },
  {
   "cell_type": "code",
   "execution_count": 345,
   "id": "distant-gentleman",
   "metadata": {},
   "outputs": [
    {
     "name": "stdout",
     "output_type": "stream",
     "text": [
      "access\n",
      "interaction\n",
      "house_rules\n"
     ]
    }
   ],
   "source": [
    "#find the missing columns in Seattle\n",
    "list_B = df_B_listing.columns\n",
    "\n",
    "for i in list_B:\n",
    "    if i in df_S_listing.columns:\n",
    "        next\n",
    "    else: \n",
    "        print(i)"
   ]
  },
  {
   "cell_type": "code",
   "execution_count": 346,
   "id": "contrary-satin",
   "metadata": {},
   "outputs": [
    {
     "name": "stdout",
     "output_type": "stream",
     "text": [
      "<class 'pandas.core.frame.DataFrame'>\n",
      "RangeIndex: 3585 entries, 0 to 3584\n",
      "Data columns (total 95 columns):\n",
      " #   Column                            Non-Null Count  Dtype  \n",
      "---  ------                            --------------  -----  \n",
      " 0   id                                3585 non-null   int64  \n",
      " 1   listing_url                       3585 non-null   object \n",
      " 2   scrape_id                         3585 non-null   int64  \n",
      " 3   last_scraped                      3585 non-null   object \n",
      " 4   name                              3585 non-null   object \n",
      " 5   summary                           3442 non-null   object \n",
      " 6   space                             2528 non-null   object \n",
      " 7   description                       3585 non-null   object \n",
      " 8   experiences_offered               3585 non-null   object \n",
      " 9   neighborhood_overview             2170 non-null   object \n",
      " 10  notes                             1610 non-null   object \n",
      " 11  transit                           2295 non-null   object \n",
      " 12  access                            2096 non-null   object \n",
      " 13  interaction                       2031 non-null   object \n",
      " 14  house_rules                       2393 non-null   object \n",
      " 15  thumbnail_url                     2986 non-null   object \n",
      " 16  medium_url                        2986 non-null   object \n",
      " 17  picture_url                       3585 non-null   object \n",
      " 18  xl_picture_url                    2986 non-null   object \n",
      " 19  host_id                           3585 non-null   int64  \n",
      " 20  host_url                          3585 non-null   object \n",
      " 21  host_name                         3585 non-null   object \n",
      " 22  host_since                        3585 non-null   object \n",
      " 23  host_location                     3574 non-null   object \n",
      " 24  host_about                        2276 non-null   object \n",
      " 25  host_response_time                3114 non-null   object \n",
      " 26  host_response_rate                3114 non-null   object \n",
      " 27  host_acceptance_rate              3114 non-null   object \n",
      " 28  host_is_superhost                 3585 non-null   object \n",
      " 29  host_thumbnail_url                3585 non-null   object \n",
      " 30  host_picture_url                  3585 non-null   object \n",
      " 31  host_neighbourhood                3246 non-null   object \n",
      " 32  host_listings_count               3585 non-null   int64  \n",
      " 33  host_total_listings_count         3585 non-null   int64  \n",
      " 34  host_verifications                3585 non-null   object \n",
      " 35  host_has_profile_pic              3585 non-null   object \n",
      " 36  host_identity_verified            3585 non-null   object \n",
      " 37  street                            3585 non-null   object \n",
      " 38  neighbourhood                     3042 non-null   object \n",
      " 39  neighbourhood_cleansed            3585 non-null   object \n",
      " 40  neighbourhood_group_cleansed      0 non-null      float64\n",
      " 41  city                              3583 non-null   object \n",
      " 42  state                             3585 non-null   object \n",
      " 43  zipcode                           3547 non-null   object \n",
      " 44  market                            3571 non-null   object \n",
      " 45  smart_location                    3585 non-null   object \n",
      " 46  country_code                      3585 non-null   object \n",
      " 47  country                           3585 non-null   object \n",
      " 48  latitude                          3585 non-null   float64\n",
      " 49  longitude                         3585 non-null   float64\n",
      " 50  is_location_exact                 3585 non-null   object \n",
      " 51  property_type                     3582 non-null   object \n",
      " 52  room_type                         3585 non-null   object \n",
      " 53  accommodates                      3585 non-null   int64  \n",
      " 54  bathrooms                         3571 non-null   float64\n",
      " 55  bedrooms                          3575 non-null   float64\n",
      " 56  beds                              3576 non-null   float64\n",
      " 57  bed_type                          3585 non-null   object \n",
      " 58  amenities                         3585 non-null   object \n",
      " 59  square_feet                       56 non-null     float64\n",
      " 60  price                             3585 non-null   object \n",
      " 61  weekly_price                      892 non-null    object \n",
      " 62  monthly_price                     888 non-null    object \n",
      " 63  security_deposit                  1342 non-null   object \n",
      " 64  cleaning_fee                      2478 non-null   object \n",
      " 65  guests_included                   3585 non-null   int64  \n",
      " 66  extra_people                      3585 non-null   object \n",
      " 67  minimum_nights                    3585 non-null   int64  \n",
      " 68  maximum_nights                    3585 non-null   int64  \n",
      " 69  calendar_updated                  3585 non-null   object \n",
      " 70  has_availability                  0 non-null      float64\n",
      " 71  availability_30                   3585 non-null   int64  \n",
      " 72  availability_60                   3585 non-null   int64  \n",
      " 73  availability_90                   3585 non-null   int64  \n",
      " 74  availability_365                  3585 non-null   int64  \n",
      " 75  calendar_last_scraped             3585 non-null   object \n",
      " 76  number_of_reviews                 3585 non-null   int64  \n",
      " 77  first_review                      2829 non-null   object \n",
      " 78  last_review                       2829 non-null   object \n",
      " 79  review_scores_rating              2772 non-null   float64\n",
      " 80  review_scores_accuracy            2762 non-null   float64\n",
      " 81  review_scores_cleanliness         2767 non-null   float64\n",
      " 82  review_scores_checkin             2765 non-null   float64\n",
      " 83  review_scores_communication       2767 non-null   float64\n",
      " 84  review_scores_location            2763 non-null   float64\n",
      " 85  review_scores_value               2764 non-null   float64\n",
      " 86  requires_license                  3585 non-null   object \n",
      " 87  license                           0 non-null      float64\n",
      " 88  jurisdiction_names                0 non-null      float64\n",
      " 89  instant_bookable                  3585 non-null   object \n",
      " 90  cancellation_policy               3585 non-null   object \n",
      " 91  require_guest_profile_picture     3585 non-null   object \n",
      " 92  require_guest_phone_verification  3585 non-null   object \n",
      " 93  calculated_host_listings_count    3585 non-null   int64  \n",
      " 94  reviews_per_month                 2829 non-null   float64\n",
      "dtypes: float64(18), int64(15), object(62)\n",
      "memory usage: 2.6+ MB\n"
     ]
    }
   ],
   "source": [
    "#closer look at boston\n",
    "df_B_listing.info()"
   ]
  },
  {
   "cell_type": "code",
   "execution_count": 347,
   "id": "popular-imperial",
   "metadata": {},
   "outputs": [
    {
     "data": {
      "text/plain": [
       "f    7403\n",
       "Name: requires_license, dtype: int64"
      ]
     },
     "execution_count": 347,
     "metadata": {},
     "output_type": "execute_result"
    }
   ],
   "source": [
    "df_list.requires_license.value_counts()"
   ]
  },
  {
   "cell_type": "code",
   "execution_count": 348,
   "id": "dried-billion",
   "metadata": {},
   "outputs": [
    {
     "data": {
      "text/plain": [
       "WA    3817\n",
       "MA    3585\n",
       "wa       1\n",
       "Name: state, dtype: int64"
      ]
     },
     "execution_count": 348,
     "metadata": {},
     "output_type": "execute_result"
    }
   ],
   "source": [
    "df_list.state.value_counts()"
   ]
  },
  {
   "cell_type": "code",
   "execution_count": 349,
   "id": "binary-cruise",
   "metadata": {},
   "outputs": [
    {
     "data": {
      "text/plain": [
       "2137"
      ]
     },
     "execution_count": 349,
     "metadata": {},
     "output_type": "execute_result"
    }
   ],
   "source": [
    "df_list.cleaning_fee.isnull().sum()"
   ]
  },
  {
   "cell_type": "code",
   "execution_count": 350,
   "id": "awful-police",
   "metadata": {},
   "outputs": [
    {
     "data": {
      "text/plain": [
       "https://www.airbnb.com/users/show/30283594    138\n",
       "https://www.airbnb.com/users/show/25188        79\n",
       "https://www.airbnb.com/users/show/4962900      64\n",
       "https://www.airbnb.com/users/show/9419684      61\n",
       "https://www.airbnb.com/users/show/12243051     58\n",
       "                                             ... \n",
       "https://www.airbnb.com/users/show/61571632      1\n",
       "https://www.airbnb.com/users/show/12832332      1\n",
       "https://www.airbnb.com/users/show/20450031      1\n",
       "https://www.airbnb.com/users/show/27656377      1\n",
       "https://www.airbnb.com/users/show/23635078      1\n",
       "Name: host_url, Length: 4929, dtype: int64"
      ]
     },
     "execution_count": 350,
     "metadata": {},
     "output_type": "execute_result"
    }
   ],
   "source": [
    "df_list.host_url.value_counts()"
   ]
  },
  {
   "cell_type": "code",
   "execution_count": 351,
   "id": "editorial-tamil",
   "metadata": {},
   "outputs": [],
   "source": [
    "def plot_def (col):\n",
    "    base_color = sb.color_palette()[0]\n",
    "\n",
    "    plt.figure(figsize=[5,5])\n",
    "\n",
    "    sb.countplot(data = df_list, y = col, color = base_color);"
   ]
  },
  {
   "cell_type": "code",
   "execution_count": 352,
   "id": "disciplinary-education",
   "metadata": {},
   "outputs": [
    {
     "data": {
      "image/png": "[encoded data removed]",
      "text/plain": [
       "<Figure size 360x360 with 1 Axes>"
      ]
     },
     "metadata": {
      "needs_background": "light"
     },
     "output_type": "display_data"
    }
   ],
   "source": [
    "#plot count of room_type\n",
    "plot_def('room_type')"
   ]
  },
  {
   "cell_type": "code",
   "execution_count": 353,
   "id": "affiliated-separation",
   "metadata": {},
   "outputs": [
    {
     "data": {
      "text/plain": [
       "0"
      ]
     },
     "execution_count": 353,
     "metadata": {},
     "output_type": "execute_result"
    }
   ],
   "source": [
    "df_list.room_type.isnull().sum()"
   ]
  },
  {
   "cell_type": "code",
   "execution_count": 354,
   "id": "turned-trigger",
   "metadata": {},
   "outputs": [
    {
     "data": {
      "image/png": "[encoded data removed]",
      "text/plain": [
       "<Figure size 360x360 with 1 Axes>"
      ]
     },
     "metadata": {
      "needs_background": "light"
     },
     "output_type": "display_data"
    }
   ],
   "source": [
    "plot_def('host_response_time')"
   ]
  },
  {
   "cell_type": "code",
   "execution_count": 355,
   "id": "collected-identity",
   "metadata": {},
   "outputs": [
    {
     "data": {
      "text/plain": [
       "strict             2999\n",
       "moderate           2170\n",
       "flexible           2149\n",
       "super_strict_30      85\n",
       "Name: cancellation_policy, dtype: int64"
      ]
     },
     "execution_count": 355,
     "metadata": {},
     "output_type": "execute_result"
    }
   ],
   "source": [
    "df_list.cancellation_policy.value_counts()"
   ]
  },
  {
   "cell_type": "code",
   "execution_count": 356,
   "id": "mechanical-liquid",
   "metadata": {},
   "outputs": [
    {
     "data": {
      "text/plain": [
       "16"
      ]
     },
     "execution_count": 356,
     "metadata": {},
     "output_type": "execute_result"
    }
   ],
   "source": [
    "df_list.bedrooms.isnull().sum()"
   ]
  },
  {
   "cell_type": "code",
   "execution_count": 357,
   "id": "solved-seven",
   "metadata": {},
   "outputs": [
    {
     "data": {
      "image/png": "[encoded data removed]",
      "text/plain": [
       "<Figure size 360x360 with 1 Axes>"
      ]
     },
     "metadata": {
      "needs_background": "light"
     },
     "output_type": "display_data"
    }
   ],
   "source": [
    "plot_def('bedrooms')"
   ]
  },
  {
   "cell_type": "code",
   "execution_count": 358,
   "id": "grand-graduate",
   "metadata": {},
   "outputs": [
    {
     "data": {
      "text/plain": [
       "10"
      ]
     },
     "execution_count": 358,
     "metadata": {},
     "output_type": "execute_result"
    }
   ],
   "source": [
    "df_list.beds.isnull().sum()"
   ]
  },
  {
   "cell_type": "code",
   "execution_count": 359,
   "id": "broad-interim",
   "metadata": {},
   "outputs": [
    {
     "data": {
      "text/plain": [
       "1.0     4366\n",
       "2.0     1865\n",
       "3.0      708\n",
       "4.0      258\n",
       "5.0      113\n",
       "6.0       37\n",
       "7.0       22\n",
       "8.0       10\n",
       "9.0        6\n",
       "0.0        4\n",
       "10.0       2\n",
       "15.0       1\n",
       "16.0       1\n",
       "Name: beds, dtype: int64"
      ]
     },
     "execution_count": 359,
     "metadata": {},
     "output_type": "execute_result"
    }
   ],
   "source": [
    "df_list.beds.value_counts()"
   ]
  },
  {
   "cell_type": "code",
   "execution_count": 360,
   "id": "presidential-vatican",
   "metadata": {},
   "outputs": [
    {
     "data": {
      "image/png": "[encoded data removed]",
      "text/plain": [
       "<Figure size 360x360 with 1 Axes>"
      ]
     },
     "metadata": {
      "needs_background": "light"
     },
     "output_type": "display_data"
    }
   ],
   "source": [
    "plot_def('beds')"
   ]
  },
  {
   "cell_type": "code",
   "execution_count": 361,
   "id": "fatal-cyprus",
   "metadata": {},
   "outputs": [
    {
     "data": {
      "text/plain": [
       "959"
      ]
     },
     "execution_count": 361,
     "metadata": {},
     "output_type": "execute_result"
    }
   ],
   "source": [
    "df_list.neighbourhood.isnull().sum()"
   ]
  },
  {
   "cell_type": "code",
   "execution_count": 362,
   "id": "documentary-correspondence",
   "metadata": {},
   "outputs": [
    {
     "data": {
      "text/plain": [
       "0"
      ]
     },
     "execution_count": 362,
     "metadata": {},
     "output_type": "execute_result"
    }
   ],
   "source": [
    "df_list.instant_bookable.isnull().sum()"
   ]
  },
  {
   "cell_type": "code",
   "execution_count": 363,
   "id": "missing-october",
   "metadata": {},
   "outputs": [
    {
     "data": {
      "image/png": "[encoded data removed]",
      "text/plain": [
       "<Figure size 360x360 with 1 Axes>"
      ]
     },
     "metadata": {
      "needs_background": "light"
     },
     "output_type": "display_data"
    }
   ],
   "source": [
    "plot_def('instant_bookable')"
   ]
  },
  {
   "cell_type": "code",
   "execution_count": 364,
   "id": "cognitive-characterization",
   "metadata": {},
   "outputs": [
    {
     "data": {
      "image/png": "[encoded data removed]",
      "text/plain": [
       "<Figure size 360x360 with 1 Axes>"
      ]
     },
     "metadata": {
      "needs_background": "light"
     },
     "output_type": "display_data"
    }
   ],
   "source": [
    "plot_def('property_type')"
   ]
  },
  {
   "cell_type": "code",
   "execution_count": 365,
   "id": "unknown-given",
   "metadata": {},
   "outputs": [
    {
     "data": {
      "text/plain": [
       "Broadway             397\n",
       "Jamaica Plain        343\n",
       "South End            326\n",
       "Back Bay             302\n",
       "Fenway               290\n",
       "                    ... \n",
       "Arbor Heights          5\n",
       "Pinehurst              4\n",
       "South Beacon Hill      4\n",
       "South Park             3\n",
       "Roxhill                2\n",
       "Name: neighbourhood_cleansed, Length: 111, dtype: int64"
      ]
     },
     "execution_count": 365,
     "metadata": {},
     "output_type": "execute_result"
    }
   ],
   "source": [
    "df_list.neighbourhood_cleansed.value_counts()"
   ]
  },
  {
   "cell_type": "code",
   "execution_count": 366,
   "id": "retained-armor",
   "metadata": {},
   "outputs": [
    {
     "data": {
      "text/plain": [
       "0"
      ]
     },
     "execution_count": 366,
     "metadata": {},
     "output_type": "execute_result"
    }
   ],
   "source": [
    "df_list.neighbourhood_cleansed.isnull().sum()"
   ]
  },
  {
   "cell_type": "code",
   "execution_count": 367,
   "id": "about-election",
   "metadata": {},
   "outputs": [
    {
     "data": {
      "text/plain": [
       "3585"
      ]
     },
     "execution_count": 367,
     "metadata": {},
     "output_type": "execute_result"
    }
   ],
   "source": [
    "df_list.neighbourhood_group_cleansed.isnull().sum()"
   ]
  },
  {
   "cell_type": "code",
   "execution_count": 368,
   "id": "comparable-disco",
   "metadata": {},
   "outputs": [
    {
     "data": {
      "text/plain": [
       "Other neighborhoods    794\n",
       "Capitol Hill           567\n",
       "Downtown               530\n",
       "Central Area           369\n",
       "Queen Anne             295\n",
       "Ballard                230\n",
       "West Seattle           203\n",
       "Rainier Valley         159\n",
       "University District    122\n",
       "Beacon Hill            118\n",
       "Cascade                 89\n",
       "Northgate               80\n",
       "Delridge                79\n",
       "Lake City               67\n",
       "Magnolia                61\n",
       "Seward Park             44\n",
       "Interbay                11\n",
       "Name: neighbourhood_group_cleansed, dtype: int64"
      ]
     },
     "execution_count": 368,
     "metadata": {},
     "output_type": "execute_result"
    }
   ],
   "source": [
    "df_list.neighbourhood_group_cleansed.value_counts()"
   ]
  },
  {
   "cell_type": "code",
   "execution_count": 369,
   "id": "american-concentrate",
   "metadata": {},
   "outputs": [
    {
     "data": {
      "text/plain": [
       "0"
      ]
     },
     "execution_count": 369,
     "metadata": {},
     "output_type": "execute_result"
    }
   ],
   "source": [
    "#check if some rows are duplicated \n",
    "df_list.duplicated().sum()"
   ]
  },
  {
   "cell_type": "code",
   "execution_count": 370,
   "id": "motivated-payroll",
   "metadata": {},
   "outputs": [
    {
     "data": {
      "text/plain": [
       "2474"
      ]
     },
     "execution_count": 370,
     "metadata": {},
     "output_type": "execute_result"
    }
   ],
   "source": [
    "#check if host_id is duplicated\n",
    "df_list.host_id.duplicated().sum()"
   ]
  },
  {
   "cell_type": "code",
   "execution_count": 371,
   "id": "hawaiian-breakdown",
   "metadata": {},
   "outputs": [
    {
     "data": {
      "text/plain": [
       "30283594    137\n",
       "25188        78\n",
       "4962900      63\n",
       "9419684      60\n",
       "12243051     57\n",
       "           ... \n",
       "2844298       1\n",
       "73359         1\n",
       "7980977       1\n",
       "39845529      1\n",
       "884747        1\n",
       "Name: host_id, Length: 877, dtype: int64"
      ]
     },
     "execution_count": 371,
     "metadata": {},
     "output_type": "execute_result"
    }
   ],
   "source": [
    "df_list[df_list.host_id.duplicated() == True].host_id.value_counts()"
   ]
  },
  {
   "cell_type": "code",
   "execution_count": 372,
   "id": "collected-positive",
   "metadata": {},
   "outputs": [
    {
     "data": {
      "text/plain": [
       "MA    136\n",
       "WA      2\n",
       "Name: state, dtype: int64"
      ]
     },
     "execution_count": 372,
     "metadata": {},
     "output_type": "execute_result"
    }
   ],
   "source": [
    "df_list[df_list.host_id==30283594].state.value_counts()"
   ]
  },
  {
   "cell_type": "markdown",
   "id": "pleased-cooling",
   "metadata": {},
   "source": [
    "**intresting is that one of the host seems to have appartments/rooms in two different citys**"
   ]
  },
  {
   "cell_type": "code",
   "execution_count": 373,
   "id": "technological-default",
   "metadata": {},
   "outputs": [
    {
     "data": {
      "text/plain": [
       "1       3036\n",
       "2       2421\n",
       "3       1095\n",
       "4        248\n",
       "7        174\n",
       "5        162\n",
       "10        70\n",
       "14        41\n",
       "30        35\n",
       "6         34\n",
       "15        21\n",
       "20        19\n",
       "28         8\n",
       "32         4\n",
       "60         4\n",
       "21         4\n",
       "13         3\n",
       "25         3\n",
       "9          2\n",
       "8          2\n",
       "11         2\n",
       "27         2\n",
       "90         2\n",
       "23         1\n",
       "29         1\n",
       "26         1\n",
       "18         1\n",
       "273        1\n",
       "17         1\n",
       "1000       1\n",
       "300        1\n",
       "200        1\n",
       "12         1\n",
       "31         1\n",
       "Name: minimum_nights, dtype: int64"
      ]
     },
     "execution_count": 373,
     "metadata": {},
     "output_type": "execute_result"
    }
   ],
   "source": [
    "#closer look at minimum nights\n",
    "df_list.minimum_nights.value_counts()"
   ]
  },
  {
   "cell_type": "markdown",
   "id": "spatial-airline",
   "metadata": {},
   "source": [
    "**Observations**"
   ]
  },
  {
   "cell_type": "markdown",
   "id": "selected-brook",
   "metadata": {},
   "source": [
    "- *there seems to be at least one row in the dataset without any data (license)*\n",
    "- *there are columns without information in the Boston dataset (for example: has_availability, neighbourhood_group_cleansed, jurisdiction_names)*\n",
    "- *there are columns which do not give you furter information (all the same data, for example: requires_license contains only 'f')*\n",
    "- *there are columns in the Boston data set which cannot be found in the Seattle data set (access, interaction, house_rules)*\n",
    "- *in state column there is 1 \"wrong\" state (it is written in small letters 'wa')*\n",
    "- *missing values in some columns (for example: cleaning_fee, bedrooms)*\n",
    "- *for the purpose of this investigation all columns with an url don't seem to be interesting (for example: host_url)*\n",
    "- *0 beds seems to be wrong. there should be at least 1*\n",
    "- *double info in the columns with neighbourhood*\n",
    "- *the column minimum_nights seems to hold wrong numbers (for example: 1000 nights as a minimum seem to be wrong)*\n",
    "- *price is not a float*"
   ]
  },
  {
   "cell_type": "markdown",
   "id": "naval-tattoo",
   "metadata": {},
   "source": [
    "### 2.3. Clean data"
   ]
  },
  {
   "cell_type": "markdown",
   "id": "utility-multimedia",
   "metadata": {},
   "source": [
    "#### 2.3.1 unnecessary columns"
   ]
  },
  {
   "cell_type": "markdown",
   "id": "liked-concentrate",
   "metadata": {},
   "source": [
    "- *row without data and information or not intresting for this investigation --> license, requires_license, +_url*\n",
    "- *double info in the columns with neighbourhood --> neighbourhood, neighbourhood_group_cleansed are not necessary* \n",
    "- *there are columns without information in the Boston dataset (for example: has_availability, neighbourhood_group_cleansed, jurisdiction_names)*\n",
    "- *there are columns in the Boston data set which cannot be found in the Seattle data set (access, interaction, house_rules)*"
   ]
  },
  {
   "cell_type": "markdown",
   "id": "figured-frost",
   "metadata": {},
   "source": [
    "**Solution: drop those columns**"
   ]
  },
  {
   "cell_type": "code",
   "execution_count": 374,
   "id": "extensive-destination",
   "metadata": {},
   "outputs": [
    {
     "name": "stdout",
     "output_type": "stream",
     "text": [
      "['listing_url', 'thumbnail_url', 'medium_url', 'picture_url', 'xl_picture_url', 'host_url', 'host_thumbnail_url', 'host_picture_url']\n"
     ]
    }
   ],
   "source": [
    "#find all with url\n",
    "\n",
    "url = [col for col in df_list.columns if 'url' in col]\n",
    "print(url)"
   ]
  },
  {
   "cell_type": "code",
   "execution_count": 375,
   "id": "spectacular-wallace",
   "metadata": {},
   "outputs": [],
   "source": [
    "df_list_clean = df_list.drop(columns=url)"
   ]
  },
  {
   "cell_type": "code",
   "execution_count": 376,
   "id": "activated-scene",
   "metadata": {},
   "outputs": [],
   "source": [
    "df_list_clean = df_list_clean.drop(columns=['license', 'requires_license', 'neighbourhood', 'neighbourhood_group_cleansed', 'has_availability', 'jurisdiction_names', 'access', 'interaction', 'house_rules'])"
   ]
  },
  {
   "cell_type": "markdown",
   "id": "coordinate-doctor",
   "metadata": {},
   "source": [
    "**Check**"
   ]
  },
  {
   "cell_type": "code",
   "execution_count": 377,
   "id": "accepting-corruption",
   "metadata": {},
   "outputs": [
    {
     "name": "stdout",
     "output_type": "stream",
     "text": [
      "<class 'pandas.core.frame.DataFrame'>\n",
      "Int64Index: 7403 entries, 0 to 3817\n",
      "Data columns (total 78 columns):\n",
      " #   Column                            Non-Null Count  Dtype  \n",
      "---  ------                            --------------  -----  \n",
      " 0   id                                7403 non-null   int64  \n",
      " 1   scrape_id                         7403 non-null   int64  \n",
      " 2   last_scraped                      7403 non-null   object \n",
      " 3   name                              7403 non-null   object \n",
      " 4   summary                           7083 non-null   object \n",
      " 5   space                             5777 non-null   object \n",
      " 6   description                       7403 non-null   object \n",
      " 7   experiences_offered               7403 non-null   object \n",
      " 8   neighborhood_overview             4956 non-null   object \n",
      " 9   notes                             3822 non-null   object \n",
      " 10  transit                           5179 non-null   object \n",
      " 11  host_id                           7403 non-null   int64  \n",
      " 12  host_name                         7401 non-null   object \n",
      " 13  host_since                        7401 non-null   object \n",
      " 14  host_location                     7384 non-null   object \n",
      " 15  host_about                        5235 non-null   object \n",
      " 16  host_response_time                6409 non-null   object \n",
      " 17  host_response_rate                6409 non-null   object \n",
      " 18  host_acceptance_rate              6159 non-null   object \n",
      " 19  host_is_superhost                 7401 non-null   object \n",
      " 20  host_neighbourhood                6764 non-null   object \n",
      " 21  host_listings_count               7401 non-null   float64\n",
      " 22  host_total_listings_count         7401 non-null   float64\n",
      " 23  host_verifications                7403 non-null   object \n",
      " 24  host_has_profile_pic              7401 non-null   object \n",
      " 25  host_identity_verified            7401 non-null   object \n",
      " 26  street                            7403 non-null   object \n",
      " 27  neighbourhood_cleansed            7403 non-null   object \n",
      " 28  city                              7401 non-null   object \n",
      " 29  state                             7403 non-null   object \n",
      " 30  zipcode                           7358 non-null   object \n",
      " 31  market                            7389 non-null   object \n",
      " 32  smart_location                    7403 non-null   object \n",
      " 33  country_code                      7403 non-null   object \n",
      " 34  country                           7403 non-null   object \n",
      " 35  latitude                          7403 non-null   float64\n",
      " 36  longitude                         7403 non-null   float64\n",
      " 37  is_location_exact                 7403 non-null   object \n",
      " 38  property_type                     7399 non-null   object \n",
      " 39  room_type                         7403 non-null   object \n",
      " 40  accommodates                      7403 non-null   int64  \n",
      " 41  bathrooms                         7373 non-null   float64\n",
      " 42  bedrooms                          7387 non-null   float64\n",
      " 43  beds                              7393 non-null   float64\n",
      " 44  bed_type                          7403 non-null   object \n",
      " 45  amenities                         7403 non-null   object \n",
      " 46  square_feet                       153 non-null    float64\n",
      " 47  price                             7403 non-null   object \n",
      " 48  weekly_price                      2901 non-null   object \n",
      " 49  monthly_price                     2405 non-null   object \n",
      " 50  security_deposit                  3208 non-null   object \n",
      " 51  cleaning_fee                      5266 non-null   object \n",
      " 52  guests_included                   7403 non-null   int64  \n",
      " 53  extra_people                      7403 non-null   object \n",
      " 54  minimum_nights                    7403 non-null   int64  \n",
      " 55  maximum_nights                    7403 non-null   int64  \n",
      " 56  calendar_updated                  7403 non-null   object \n",
      " 57  availability_30                   7403 non-null   int64  \n",
      " 58  availability_60                   7403 non-null   int64  \n",
      " 59  availability_90                   7403 non-null   int64  \n",
      " 60  availability_365                  7403 non-null   int64  \n",
      " 61  calendar_last_scraped             7403 non-null   object \n",
      " 62  number_of_reviews                 7403 non-null   int64  \n",
      " 63  first_review                      6020 non-null   object \n",
      " 64  last_review                       6020 non-null   object \n",
      " 65  review_scores_rating              5943 non-null   float64\n",
      " 66  review_scores_accuracy            5922 non-null   float64\n",
      " 67  review_scores_cleanliness         5932 non-null   float64\n",
      " 68  review_scores_checkin             5925 non-null   float64\n",
      " 69  review_scores_communication       5934 non-null   float64\n",
      " 70  review_scores_location            5926 non-null   float64\n",
      " 71  review_scores_value               5926 non-null   float64\n",
      " 72  instant_bookable                  7403 non-null   object \n",
      " 73  cancellation_policy               7403 non-null   object \n",
      " 74  require_guest_profile_picture     7403 non-null   object \n",
      " 75  require_guest_phone_verification  7403 non-null   object \n",
      " 76  calculated_host_listings_count    7403 non-null   int64  \n",
      " 77  reviews_per_month                 6020 non-null   float64\n",
      "dtypes: float64(16), int64(13), object(49)\n",
      "memory usage: 4.6+ MB\n"
     ]
    }
   ],
   "source": [
    "df_list_clean.info()"
   ]
  },
  {
   "cell_type": "markdown",
   "id": "satisfied-village",
   "metadata": {},
   "source": [
    "#### 2.3.2 wrong state"
   ]
  },
  {
   "cell_type": "markdown",
   "id": "thousand-intro",
   "metadata": {},
   "source": [
    "*in state column there is 1 \"wrong\" state (it is written in small letters 'wa')*"
   ]
  },
  {
   "cell_type": "markdown",
   "id": "vietnamese-destination",
   "metadata": {},
   "source": [
    "**Solution: change 'wa' to 'WA'**"
   ]
  },
  {
   "cell_type": "code",
   "execution_count": 378,
   "id": "third-shock",
   "metadata": {},
   "outputs": [],
   "source": [
    "df_list_clean.state = df_list_clean.state.replace('wa', 'WA')"
   ]
  },
  {
   "cell_type": "markdown",
   "id": "variable-favor",
   "metadata": {},
   "source": [
    "**Check**"
   ]
  },
  {
   "cell_type": "code",
   "execution_count": 379,
   "id": "fewer-battle",
   "metadata": {},
   "outputs": [
    {
     "data": {
      "text/plain": [
       "WA    3818\n",
       "MA    3585\n",
       "Name: state, dtype: int64"
      ]
     },
     "execution_count": 379,
     "metadata": {},
     "output_type": "execute_result"
    }
   ],
   "source": [
    "df_list_clean.state.value_counts()"
   ]
  },
  {
   "cell_type": "markdown",
   "id": "visible-intensity",
   "metadata": {},
   "source": [
    "#### 2.3.3 wrong values"
   ]
  },
  {
   "cell_type": "markdown",
   "id": "prime-diagram",
   "metadata": {},
   "source": [
    "*minimum_nights with values above 90 (which is already 3 months and this is the normal amount of time for notification to the landlord) seem to be wrong*"
   ]
  },
  {
   "cell_type": "markdown",
   "id": "lightweight-virus",
   "metadata": {},
   "source": [
    "**Solution: drop the lines with more than 90 minimum_nights**"
   ]
  },
  {
   "cell_type": "code",
   "execution_count": 380,
   "id": "numeric-america",
   "metadata": {},
   "outputs": [],
   "source": [
    "df_list_clean = df_list_clean[df_list_clean.minimum_nights <= 90]"
   ]
  },
  {
   "cell_type": "code",
   "execution_count": 381,
   "id": "present-template",
   "metadata": {},
   "outputs": [
    {
     "data": {
      "text/plain": [
       "1     3036\n",
       "2     2421\n",
       "3     1095\n",
       "4      248\n",
       "7      174\n",
       "5      162\n",
       "10      70\n",
       "14      41\n",
       "30      35\n",
       "6       34\n",
       "15      21\n",
       "20      19\n",
       "28       8\n",
       "32       4\n",
       "60       4\n",
       "21       4\n",
       "25       3\n",
       "13       3\n",
       "90       2\n",
       "9        2\n",
       "11       2\n",
       "8        2\n",
       "27       2\n",
       "17       1\n",
       "18       1\n",
       "26       1\n",
       "29       1\n",
       "12       1\n",
       "23       1\n",
       "31       1\n",
       "Name: minimum_nights, dtype: int64"
      ]
     },
     "execution_count": 381,
     "metadata": {},
     "output_type": "execute_result"
    }
   ],
   "source": [
    "df_list_clean.minimum_nights.value_counts()"
   ]
  },
  {
   "cell_type": "markdown",
   "id": "single-literature",
   "metadata": {},
   "source": [
    "*0 beds seem to be wrong for an AirBNB*"
   ]
  },
  {
   "cell_type": "markdown",
   "id": "productive-default",
   "metadata": {},
   "source": [
    "**Solution: change it to 1 bed**"
   ]
  },
  {
   "cell_type": "code",
   "execution_count": 382,
   "id": "straight-equilibrium",
   "metadata": {},
   "outputs": [],
   "source": [
    "df_list_clean.beds = df_list_clean.beds.replace(0, 1)"
   ]
  },
  {
   "cell_type": "code",
   "execution_count": 383,
   "id": "surprised-birthday",
   "metadata": {},
   "outputs": [
    {
     "data": {
      "text/plain": [
       "1.0     4367\n",
       "2.0     1864\n",
       "3.0      708\n",
       "4.0      258\n",
       "5.0      113\n",
       "6.0       37\n",
       "7.0       22\n",
       "8.0       10\n",
       "9.0        6\n",
       "10.0       2\n",
       "15.0       1\n",
       "16.0       1\n",
       "Name: beds, dtype: int64"
      ]
     },
     "execution_count": 383,
     "metadata": {},
     "output_type": "execute_result"
    }
   ],
   "source": [
    "df_list_clean.beds.value_counts()"
   ]
  },
  {
   "cell_type": "markdown",
   "id": "necessary-narrow",
   "metadata": {},
   "source": [
    "#### 2.3.4 Missing values"
   ]
  },
  {
   "cell_type": "markdown",
   "id": "entitled-hundred",
   "metadata": {},
   "source": [
    "*missing values in beds*"
   ]
  },
  {
   "cell_type": "markdown",
   "id": "vanilla-arbor",
   "metadata": {},
   "source": [
    "**Solution: replace it with 1**"
   ]
  },
  {
   "cell_type": "code",
   "execution_count": 384,
   "id": "bronze-spelling",
   "metadata": {},
   "outputs": [],
   "source": [
    "df_list_clean.fillna(({'beds': 1}), inplace = True)"
   ]
  },
  {
   "cell_type": "markdown",
   "id": "going-concept",
   "metadata": {},
   "source": [
    "**Check**"
   ]
  },
  {
   "cell_type": "code",
   "execution_count": 385,
   "id": "fatty-aruba",
   "metadata": {},
   "outputs": [
    {
     "data": {
      "text/plain": [
       "0"
      ]
     },
     "execution_count": 385,
     "metadata": {},
     "output_type": "execute_result"
    }
   ],
   "source": [
    "df_list_clean.beds.isnull().sum()"
   ]
  },
  {
   "cell_type": "markdown",
   "id": "worst-messenger",
   "metadata": {},
   "source": [
    "*missing values in cleaning_fee*"
   ]
  },
  {
   "cell_type": "markdown",
   "id": "substantial-nightmare",
   "metadata": {},
   "source": [
    "**Solution: use median of cleaning_fee for missing values**"
   ]
  },
  {
   "cell_type": "code",
   "execution_count": 386,
   "id": "relative-craft",
   "metadata": {},
   "outputs": [],
   "source": [
    "#cleaning fee is an object --> mean can't be calculated with object --> substract it and make an int out of it\n",
    "fee = df_list_clean.dropna(subset = ['cleaning_fee']).cleaning_fee.str.slice(1,9).astype(float).median()"
   ]
  },
  {
   "cell_type": "code",
   "execution_count": 387,
   "id": "personal-neighbor",
   "metadata": {},
   "outputs": [],
   "source": [
    "df_list_clean.fillna({'cleaning_fee' : '$'+str(fee)+'0'}, inplace = True)"
   ]
  },
  {
   "cell_type": "code",
   "execution_count": 388,
   "id": "australian-egypt",
   "metadata": {},
   "outputs": [
    {
     "data": {
      "text/plain": [
       "$50.00     2770\n",
       "$100.00     522\n",
       "$25.00      455\n",
       "$20.00      307\n",
       "$10.00      285\n",
       "           ... \n",
       "$210.00       1\n",
       "$14.00        1\n",
       "$179.00       1\n",
       "$87.00        1\n",
       "$240.00       1\n",
       "Name: cleaning_fee, Length: 132, dtype: int64"
      ]
     },
     "execution_count": 388,
     "metadata": {},
     "output_type": "execute_result"
    }
   ],
   "source": [
    "df_list_clean.cleaning_fee.value_counts()"
   ]
  },
  {
   "cell_type": "markdown",
   "id": "cloudy-princess",
   "metadata": {},
   "source": [
    "**Check**"
   ]
  },
  {
   "cell_type": "code",
   "execution_count": 389,
   "id": "external-difference",
   "metadata": {},
   "outputs": [
    {
     "data": {
      "text/plain": [
       "0"
      ]
     },
     "execution_count": 389,
     "metadata": {},
     "output_type": "execute_result"
    }
   ],
   "source": [
    "df_list_clean.cleaning_fee.isnull().sum()"
   ]
  },
  {
   "cell_type": "markdown",
   "id": "ranging-reach",
   "metadata": {},
   "source": [
    "*missing values in bedrooms*"
   ]
  },
  {
   "cell_type": "code",
   "execution_count": 390,
   "id": "pediatric-performance",
   "metadata": {},
   "outputs": [
    {
     "data": {
      "text/plain": [
       "1.0    16\n",
       "Name: bathrooms, dtype: int64"
      ]
     },
     "execution_count": 390,
     "metadata": {},
     "output_type": "execute_result"
    }
   ],
   "source": [
    "#with at least 1 bathroom i expect also a bedroom\n",
    "df_list_clean[df_list_clean['bedrooms'].isnull() == True].bathrooms.value_counts()"
   ]
  },
  {
   "cell_type": "markdown",
   "id": "going-stack",
   "metadata": {},
   "source": [
    "**Solution: at least 1 bedroom**"
   ]
  },
  {
   "cell_type": "code",
   "execution_count": 391,
   "id": "advance-easter",
   "metadata": {},
   "outputs": [],
   "source": [
    "df_list_clean.fillna({'bedrooms' : 1}, inplace = True)"
   ]
  },
  {
   "cell_type": "markdown",
   "id": "artificial-impossible",
   "metadata": {},
   "source": [
    "**Check**"
   ]
  },
  {
   "cell_type": "code",
   "execution_count": 392,
   "id": "interior-fleet",
   "metadata": {},
   "outputs": [
    {
     "data": {
      "text/plain": [
       "0"
      ]
     },
     "execution_count": 392,
     "metadata": {},
     "output_type": "execute_result"
    }
   ],
   "source": [
    "df_list_clean.bedrooms.isnull().sum()"
   ]
  },
  {
   "cell_type": "markdown",
   "id": "young-officer",
   "metadata": {},
   "source": [
    "*missing value in bathrooms*"
   ]
  },
  {
   "cell_type": "code",
   "execution_count": 393,
   "id": "alternate-victoria",
   "metadata": {},
   "outputs": [
    {
     "data": {
      "text/plain": [
       "1.0    26\n",
       "2.0     4\n",
       "Name: bedrooms, dtype: int64"
      ]
     },
     "execution_count": 393,
     "metadata": {},
     "output_type": "execute_result"
    }
   ],
   "source": [
    "#with at least 1 bedroom i expect also a bathroom\n",
    "df_list_clean[df_list_clean['bathrooms'].isnull() == True].bedrooms.value_counts()"
   ]
  },
  {
   "cell_type": "markdown",
   "id": "aggregate-blink",
   "metadata": {},
   "source": [
    "**Solution: at least 1 bathroom**"
   ]
  },
  {
   "cell_type": "code",
   "execution_count": 394,
   "id": "silver-return",
   "metadata": {},
   "outputs": [],
   "source": [
    "df_list_clean.fillna({'bathrooms' : 1}, inplace = True)"
   ]
  },
  {
   "cell_type": "markdown",
   "id": "typical-carry",
   "metadata": {},
   "source": [
    "**Check**"
   ]
  },
  {
   "cell_type": "code",
   "execution_count": 395,
   "id": "detailed-circuit",
   "metadata": {},
   "outputs": [
    {
     "data": {
      "text/plain": [
       "0"
      ]
     },
     "execution_count": 395,
     "metadata": {},
     "output_type": "execute_result"
    }
   ],
   "source": [
    "df_list_clean.bathrooms.isnull().sum()"
   ]
  },
  {
   "cell_type": "code",
   "execution_count": 396,
   "id": "polish-submission",
   "metadata": {},
   "outputs": [
    {
     "data": {
      "text/plain": [
       "1.0    4809\n",
       "2.0    1332\n",
       "0.0     659\n",
       "3.0     438\n",
       "4.0     114\n",
       "5.0      40\n",
       "6.0       6\n",
       "7.0       1\n",
       "Name: bedrooms, dtype: int64"
      ]
     },
     "execution_count": 396,
     "metadata": {},
     "output_type": "execute_result"
    }
   ],
   "source": [
    "df_list_clean.bedrooms.value_counts()"
   ]
  },
  {
   "cell_type": "markdown",
   "id": "subsequent-jones",
   "metadata": {},
   "source": [
    "*price is not a float*"
   ]
  },
  {
   "cell_type": "markdown",
   "id": "stunning-headquarters",
   "metadata": {},
   "source": [
    "**Solution: change price to float**"
   ]
  },
  {
   "cell_type": "code",
   "execution_count": 397,
   "id": "lasting-minute",
   "metadata": {},
   "outputs": [
    {
     "data": {
      "text/plain": [
       "$150.00    305\n",
       "$100.00    260\n",
       "$75.00     212\n",
       "$200.00    191\n",
       "$65.00     180\n",
       "          ... \n",
       "$248.00      1\n",
       "$244.00      1\n",
       "$536.00      1\n",
       "$673.00      1\n",
       "$326.00      1\n",
       "Name: price, Length: 366, dtype: int64"
      ]
     },
     "execution_count": 397,
     "metadata": {},
     "output_type": "execute_result"
    }
   ],
   "source": [
    "df_list_clean.price.value_counts()"
   ]
  },
  {
   "cell_type": "code",
   "execution_count": 398,
   "id": "overhead-envelope",
   "metadata": {},
   "outputs": [],
   "source": [
    "df_list_clean['price'] = df_list_clean.price.str.replace(',', '')"
   ]
  },
  {
   "cell_type": "code",
   "execution_count": 399,
   "id": "living-regression",
   "metadata": {},
   "outputs": [],
   "source": [
    "df_list_clean['price'] = df_list_clean.price.str.extract('(\\d+)').astype(float)\n"
   ]
  },
  {
   "cell_type": "markdown",
   "id": "compatible-modem",
   "metadata": {},
   "source": [
    "**Check**"
   ]
  },
  {
   "cell_type": "code",
   "execution_count": 400,
   "id": "negative-smile",
   "metadata": {},
   "outputs": [
    {
     "data": {
      "text/plain": [
       "793    1400.0\n",
       "Name: price, dtype: float64"
      ]
     },
     "execution_count": 400,
     "metadata": {},
     "output_type": "execute_result"
    }
   ],
   "source": [
    "df_list_clean[df_list_clean['id'] == 6093430].price"
   ]
  },
  {
   "cell_type": "markdown",
   "id": "acute-delicious",
   "metadata": {},
   "source": [
    "## 3. Explore"
   ]
  },
  {
   "cell_type": "markdown",
   "id": "numerical-spirituality",
   "metadata": {},
   "source": [
    "### 3.1 What influences the price?"
   ]
  },
  {
   "cell_type": "markdown",
   "id": "minor-workshop",
   "metadata": {},
   "source": [
    "*At first let's have a closer look at the price?*"
   ]
  },
  {
   "cell_type": "code",
   "execution_count": 401,
   "id": "chicken-lawsuit",
   "metadata": {},
   "outputs": [],
   "source": [
    "def myHistPlot(df, xVar, bins):\n",
    "    #use this function for all the HistPlots in the notebook\n",
    "    plt.hist(data=df, x=xVar, bins = bins, edgecolor = 'black')\n",
    "    plt.xlabel(xVar.title())\n",
    "    plt.ylabel('Frequency'.title())\n",
    "    plt.title(f'Distribution of {xVar}'.title(), fontsize=14, weight='bold')"
   ]
  },
  {
   "cell_type": "code",
   "execution_count": 402,
   "id": "floppy-barcelona",
   "metadata": {},
   "outputs": [
    {
     "data": {
      "image/png": "[encoded data removed]",
      "text/plain": [
       "<Figure size 576x360 with 1 Axes>"
      ]
     },
     "metadata": {
      "needs_background": "light"
     },
     "output_type": "display_data"
    }
   ],
   "source": [
    "# start with a standard-scaled plot\n",
    "binsize = 10\n",
    "bins = np.arange(0, df_list_clean['price'].max()+binsize, binsize)\n",
    "\n",
    "plt.figure(figsize=[8, 5])\n",
    "\n",
    "myHistPlot(df_list_clean, 'price', bins)"
   ]
  },
  {
   "cell_type": "markdown",
   "id": "sexual-disabled",
   "metadata": {},
   "source": [
    "*most of the data seems to be on the left --> check without outliners (5%)*"
   ]
  },
  {
   "cell_type": "code",
   "execution_count": 403,
   "id": "opposite-battery",
   "metadata": {},
   "outputs": [
    {
     "data": {
      "text/plain": [
       "349.0"
      ]
     },
     "execution_count": 403,
     "metadata": {},
     "output_type": "execute_result"
    }
   ],
   "source": [
    "df_list_clean['price'].quantile(0.95)"
   ]
  },
  {
   "cell_type": "code",
   "execution_count": 404,
   "id": "dependent-landing",
   "metadata": {},
   "outputs": [
    {
     "data": {
      "image/png": "[encoded data removed]",
      "text/plain": [
       "<Figure size 576x360 with 1 Axes>"
      ]
     },
     "metadata": {
      "needs_background": "light"
     },
     "output_type": "display_data"
    }
   ],
   "source": [
    "#without outliers (5%)\n",
    "\n",
    "binsize = 10\n",
    "bins = np.arange(0, df_list_clean['price'].quantile(0.95)+binsize, binsize)\n",
    "\n",
    "plt.figure(figsize=[8,5])\n",
    "\n",
    "myHistPlot(df_list_clean, 'price', bins)\n",
    "plt.title('Distribution of price\\n(excluding top 5%)'.title(), fontsize=14, weight='bold');"
   ]
  },
  {
   "cell_type": "markdown",
   "id": "covered-party",
   "metadata": {},
   "source": [
    "*for further investigation I will exclude the outliners in price*"
   ]
  },
  {
   "cell_type": "code",
   "execution_count": 405,
   "id": "running-grain",
   "metadata": {},
   "outputs": [],
   "source": [
    "df_clean_sub = df_list_clean[df_list_clean['price'] <= 349]"
   ]
  },
  {
   "cell_type": "markdown",
   "id": "republican-string",
   "metadata": {},
   "source": [
    "**look at state**"
   ]
  },
  {
   "cell_type": "code",
   "execution_count": 406,
   "id": "adult-rally",
   "metadata": {},
   "outputs": [
    {
     "data": {
      "text/plain": [
       "count    7038.000000\n",
       "mean      132.127025\n",
       "std        71.573517\n",
       "min        10.000000\n",
       "25%        75.000000\n",
       "50%       115.000000\n",
       "75%       175.000000\n",
       "max       349.000000\n",
       "Name: price, dtype: float64"
      ]
     },
     "execution_count": 406,
     "metadata": {},
     "output_type": "execute_result"
    }
   ],
   "source": [
    "df_clean_sub.price.describe()"
   ]
  },
  {
   "cell_type": "code",
   "execution_count": 407,
   "id": "infinite-invalid",
   "metadata": {},
   "outputs": [
    {
     "name": "stderr",
     "output_type": "stream",
     "text": [
      "<ipython-input-407-9fba9d4de081>:4: SettingWithCopyWarning: \n",
      "A value is trying to be set on a copy of a slice from a DataFrame.\n",
      "Try using .loc[row_indexer,col_indexer] = value instead\n",
      "\n",
      "See the caveats in the documentation: https://pandas.pydata.org/pandas-docs/stable/user_guide/indexing.html#returning-a-view-versus-a-copy\n",
      "  df_clean_sub['price_seg'] = pd.cut(df_clean_sub['price'], [0,75,115,175,350], labels=list_price)\n"
     ]
    }
   ],
   "source": [
    "#create a classfication for the price\n",
    "list_price= ['low', 'middle_low', 'middle_high', 'high']\n",
    "\n",
    "df_clean_sub['price_seg'] = pd.cut(df_clean_sub['price'], [0,75,115,175,350], labels=list_price)"
   ]
  },
  {
   "cell_type": "code",
   "execution_count": 408,
   "id": "micro-extent",
   "metadata": {},
   "outputs": [],
   "source": [
    "def myplt (df, xval, huevar):\n",
    "    sb.countplot(data=df, x = xval , hue=huevar)\n",
    "    plt.legend(bbox_to_anchor=(1.02, 0.15), loc='upper left', borderaxespad=0, title = huevar)\n",
    "    \n",
    "    plt.title(f'Influence {xval} on {huevar}'.title(), fontsize=14, weight='bold')"
   ]
  },
  {
   "cell_type": "code",
   "execution_count": 409,
   "id": "terminal-maria",
   "metadata": {},
   "outputs": [
    {
     "data": {
      "image/png": "[encoded data removed]",
      "text/plain": [
       "<Figure size 432x288 with 1 Axes>"
      ]
     },
     "metadata": {
      "needs_background": "light"
     },
     "output_type": "display_data"
    }
   ],
   "source": [
    "myplt(df_clean_sub, 'state', 'price_seg')"
   ]
  },
  {
   "cell_type": "markdown",
   "id": "wrapped-coordinator",
   "metadata": {},
   "source": [
    "*Boston has the higher prices --> city is influencial for price*"
   ]
  },
  {
   "cell_type": "markdown",
   "id": "mathematical-personality",
   "metadata": {},
   "source": [
    "**look at beds**"
   ]
  },
  {
   "cell_type": "code",
   "execution_count": 410,
   "id": "appropriate-violation",
   "metadata": {},
   "outputs": [
    {
     "data": {
      "image/png": "[encoded data removed]",
      "text/plain": [
       "<Figure size 432x288 with 1 Axes>"
      ]
     },
     "metadata": {
      "needs_background": "light"
     },
     "output_type": "display_data"
    }
   ],
   "source": [
    "plt.scatter(data = df_clean_sub, x = 'beds', y = 'price', alpha = 1/10)\n",
    "plt.xlabel('number of beds')\n",
    "plt.ylabel('price')\n",
    "plt.title('Influence of number of beds for price');"
   ]
  },
  {
   "cell_type": "code",
   "execution_count": 411,
   "id": "unlikely-exercise",
   "metadata": {},
   "outputs": [
    {
     "data": {
      "image/png": "[encoded data removed]",
      "text/plain": [
       "<Figure size 432x288 with 1 Axes>"
      ]
     },
     "metadata": {
      "needs_background": "light"
     },
     "output_type": "display_data"
    }
   ],
   "source": [
    "myplt(df_clean_sub, 'beds', 'price_seg')"
   ]
  },
  {
   "cell_type": "markdown",
   "id": "facial-segment",
   "metadata": {},
   "source": [
    "*if there is more than one bed it is more likely that the price is higher --> number of beds are influencial for pirce*"
   ]
  },
  {
   "cell_type": "markdown",
   "id": "pressing-implementation",
   "metadata": {},
   "source": [
    "**look at bedrooms**"
   ]
  },
  {
   "cell_type": "code",
   "execution_count": 412,
   "id": "innovative-needle",
   "metadata": {},
   "outputs": [
    {
     "data": {
      "image/png": "[encoded data removed]",
      "text/plain": [
       "<Figure size 432x288 with 1 Axes>"
      ]
     },
     "metadata": {
      "needs_background": "light"
     },
     "output_type": "display_data"
    }
   ],
   "source": [
    "plt.scatter(data = df_clean_sub, x = 'bedrooms', y = 'price', alpha = 1/10)\n",
    "plt.xlabel('number of bedrooms')\n",
    "plt.ylabel('price')\n",
    "plt.title('Influence of number of bedrooms for price');"
   ]
  },
  {
   "cell_type": "code",
   "execution_count": 413,
   "id": "acoustic-helena",
   "metadata": {},
   "outputs": [
    {
     "data": {
      "image/png": "[encoded data removed]",
      "text/plain": [
       "<Figure size 432x288 with 1 Axes>"
      ]
     },
     "metadata": {
      "needs_background": "light"
     },
     "output_type": "display_data"
    }
   ],
   "source": [
    "myplt(df_clean_sub, 'bedrooms', 'price_seg')"
   ]
  },
  {
   "cell_type": "markdown",
   "id": "anticipated-thanks",
   "metadata": {},
   "source": [
    "*number of bedrooms is influencial for price as well*"
   ]
  },
  {
   "cell_type": "markdown",
   "id": "wired-allah",
   "metadata": {},
   "source": [
    "**look at bathrooms**"
   ]
  },
  {
   "cell_type": "code",
   "execution_count": 414,
   "id": "waiting-antibody",
   "metadata": {},
   "outputs": [
    {
     "data": {
      "image/png": "[encoded data removed]",
      "text/plain": [
       "<Figure size 432x288 with 1 Axes>"
      ]
     },
     "metadata": {
      "needs_background": "light"
     },
     "output_type": "display_data"
    }
   ],
   "source": [
    "plt.scatter(data = df_clean_sub, x = 'bathrooms', y = 'price', alpha = 1/10)\n",
    "plt.xlabel('number of bathrooms')\n",
    "plt.ylabel('price')\n",
    "plt.title('Influence of number of bathrooms for price');"
   ]
  },
  {
   "cell_type": "code",
   "execution_count": 415,
   "id": "developmental-bennett",
   "metadata": {},
   "outputs": [
    {
     "data": {
      "image/png": "[encoded data removed]",
      "text/plain": [
       "<Figure size 432x288 with 1 Axes>"
      ]
     },
     "metadata": {
      "needs_background": "light"
     },
     "output_type": "display_data"
    }
   ],
   "source": [
    "myplt(df_clean_sub, 'bathrooms', 'price_seg')"
   ]
  },
  {
   "cell_type": "markdown",
   "id": "green-strengthening",
   "metadata": {},
   "source": [
    "*number of bathrooms is influencial for price as well (especially interesting: 2 bathrooms seem to have much  more high price seg.)*"
   ]
  },
  {
   "cell_type": "markdown",
   "id": "coordinate-davis",
   "metadata": {},
   "source": [
    "**look at cleaning_fee**"
   ]
  },
  {
   "cell_type": "code",
   "execution_count": 416,
   "id": "satellite-intent",
   "metadata": {},
   "outputs": [
    {
     "name": "stderr",
     "output_type": "stream",
     "text": [
      "<ipython-input-416-bc9f3e75cefa>:1: SettingWithCopyWarning: \n",
      "A value is trying to be set on a copy of a slice from a DataFrame.\n",
      "Try using .loc[row_indexer,col_indexer] = value instead\n",
      "\n",
      "See the caveats in the documentation: https://pandas.pydata.org/pandas-docs/stable/user_guide/indexing.html#returning-a-view-versus-a-copy\n",
      "  df_clean_sub['cleaning_fee'] = df_clean_sub.cleaning_fee.str.extract('(\\d+)').astype(float)\n"
     ]
    }
   ],
   "source": [
    "df_clean_sub['cleaning_fee'] = df_clean_sub.cleaning_fee.str.extract('(\\d+)').astype(float)"
   ]
  },
  {
   "cell_type": "code",
   "execution_count": 417,
   "id": "assured-mexican",
   "metadata": {},
   "outputs": [
    {
     "data": {
      "image/png": "[encoded data removed]",
      "text/plain": [
       "<Figure size 432x288 with 1 Axes>"
      ]
     },
     "metadata": {
      "needs_background": "light"
     },
     "output_type": "display_data"
    }
   ],
   "source": [
    "plt.scatter(data = df_clean_sub, x = 'cleaning_fee', y = 'price', alpha = 1/10)\n",
    "plt.xlabel('cleaning_fee')\n",
    "plt.ylabel('price')\n",
    "plt.title('Influence of cleaning fee for price');"
   ]
  },
  {
   "cell_type": "markdown",
   "id": "whole-dictionary",
   "metadata": {},
   "source": [
    "*cleaning_fee might be influencial for price as well*"
   ]
  },
  {
   "cell_type": "markdown",
   "id": "integrated-recall",
   "metadata": {},
   "source": [
    "**look at bed_type in additon to beds**"
   ]
  },
  {
   "cell_type": "code",
   "execution_count": 418,
   "id": "personal-weather",
   "metadata": {},
   "outputs": [
    {
     "data": {
      "image/png": "[encoded data removed]",
      "text/plain": [
       "<Figure size 315.125x216 with 1 Axes>"
      ]
     },
     "metadata": {
      "needs_background": "light"
     },
     "output_type": "display_data"
    }
   ],
   "source": [
    "g = sb.FacetGrid(data = df_clean_sub, hue= 'bed_type')\n",
    "g.map(plt.scatter, 'beds', 'price')\n",
    "g.add_legend()\n",
    "plt.title('Influence of beds and bed_type on price');"
   ]
  },
  {
   "cell_type": "markdown",
   "id": "liquid-tactics",
   "metadata": {},
   "source": [
    "*might be influencial as well*"
   ]
  },
  {
   "cell_type": "markdown",
   "id": "enabling-latitude",
   "metadata": {},
   "source": [
    "### 3.2 Are the reviews relevant for a higher price?"
   ]
  },
  {
   "cell_type": "code",
   "execution_count": 419,
   "id": "minute-measure",
   "metadata": {},
   "outputs": [
    {
     "data": {
      "text/plain": [
       "0      1286\n",
       "1       649\n",
       "2       451\n",
       "3       313\n",
       "4       305\n",
       "       ... \n",
       "140       1\n",
       "353       1\n",
       "297       1\n",
       "277       1\n",
       "319       1\n",
       "Name: number_of_reviews, Length: 230, dtype: int64"
      ]
     },
     "execution_count": 419,
     "metadata": {},
     "output_type": "execute_result"
    }
   ],
   "source": [
    "df_clean_sub.number_of_reviews.value_counts()"
   ]
  },
  {
   "cell_type": "code",
   "execution_count": 420,
   "id": "seasonal-sheriff",
   "metadata": {},
   "outputs": [
    {
     "data": {
      "image/png": "[encoded data removed]",
      "text/plain": [
       "<Figure size 432x288 with 1 Axes>"
      ]
     },
     "metadata": {
      "needs_background": "light"
     },
     "output_type": "display_data"
    }
   ],
   "source": [
    "plt.scatter(data = df_clean_sub, x = 'number_of_reviews', y = 'price', alpha = 1/10)\n",
    "plt.xlabel('number of reviews')\n",
    "plt.ylabel('price')\n",
    "plt.title('Influence of number of reviews for price');"
   ]
  },
  {
   "cell_type": "markdown",
   "id": "banner-martin",
   "metadata": {},
   "source": [
    "**review_scores_value**"
   ]
  },
  {
   "cell_type": "code",
   "execution_count": 421,
   "id": "convenient-supplier",
   "metadata": {},
   "outputs": [
    {
     "data": {
      "text/plain": [
       "10.0    2832\n",
       "9.0     2171\n",
       "8.0      485\n",
       "7.0       84\n",
       "6.0       62\n",
       "4.0       16\n",
       "2.0        8\n",
       "5.0        3\n",
       "3.0        2\n",
       "Name: review_scores_value, dtype: int64"
      ]
     },
     "execution_count": 421,
     "metadata": {},
     "output_type": "execute_result"
    }
   ],
   "source": [
    "df_clean_sub.review_scores_value.value_counts()"
   ]
  },
  {
   "cell_type": "code",
   "execution_count": 422,
   "id": "qualified-physics",
   "metadata": {},
   "outputs": [
    {
     "data": {
      "image/png": "[encoded data removed]",
      "text/plain": [
       "<Figure size 432x288 with 1 Axes>"
      ]
     },
     "metadata": {
      "needs_background": "light"
     },
     "output_type": "display_data"
    }
   ],
   "source": [
    "myplt(df_clean_sub, 'review_scores_value', 'price_seg')"
   ]
  },
  {
   "cell_type": "markdown",
   "id": "phantom-falls",
   "metadata": {},
   "source": [
    "**review_scores_rating**"
   ]
  },
  {
   "cell_type": "code",
   "execution_count": 423,
   "id": "federal-provision",
   "metadata": {},
   "outputs": [
    {
     "data": {
      "text/plain": [
       "100.0    1319\n",
       "96.0      461\n",
       "98.0      425\n",
       "97.0      421\n",
       "95.0      418\n",
       "93.0      378\n",
       "94.0      297\n",
       "90.0      289\n",
       "80.0      261\n",
       "92.0      205\n",
       "99.0      195\n",
       "91.0      177\n",
       "87.0      135\n",
       "88.0      111\n",
       "89.0      105\n",
       "86.0       60\n",
       "85.0       59\n",
       "84.0       53\n",
       "60.0       44\n",
       "83.0       41\n",
       "82.0       26\n",
       "70.0       25\n",
       "75.0       19\n",
       "73.0       18\n",
       "40.0       15\n",
       "78.0       15\n",
       "77.0       13\n",
       "79.0       12\n",
       "76.0       11\n",
       "81.0       10\n",
       "20.0        7\n",
       "71.0        6\n",
       "67.0        6\n",
       "64.0        6\n",
       "74.0        6\n",
       "72.0        5\n",
       "68.0        4\n",
       "66.0        4\n",
       "50.0        3\n",
       "65.0        3\n",
       "55.0        2\n",
       "47.0        2\n",
       "53.0        2\n",
       "62.0        1\n",
       "48.0        1\n",
       "46.0        1\n",
       "69.0        1\n",
       "58.0        1\n",
       "57.0        1\n",
       "Name: review_scores_rating, dtype: int64"
      ]
     },
     "execution_count": 423,
     "metadata": {},
     "output_type": "execute_result"
    }
   ],
   "source": [
    "df_clean_sub.review_scores_rating.value_counts()"
   ]
  },
  {
   "cell_type": "code",
   "execution_count": 424,
   "id": "optimum-columbus",
   "metadata": {},
   "outputs": [
    {
     "data": {
      "image/png": "[encoded data removed]",
      "text/plain": [
       "<Figure size 432x288 with 1 Axes>"
      ]
     },
     "metadata": {
      "needs_background": "light"
     },
     "output_type": "display_data"
    }
   ],
   "source": [
    "plt.scatter(data = df_clean_sub, x = 'review_scores_rating', y = 'price', alpha = 1/10)\n",
    "plt.xlabel('scores rating')\n",
    "plt.ylabel('price')\n",
    "plt.title('Influence of scores rating for price');"
   ]
  },
  {
   "cell_type": "markdown",
   "id": "beneficial-credit",
   "metadata": {},
   "source": [
    "**reviews_per_month**"
   ]
  },
  {
   "cell_type": "code",
   "execution_count": 425,
   "id": "adolescent-bibliography",
   "metadata": {},
   "outputs": [
    {
     "data": {
      "text/plain": [
       "1.00     179\n",
       "2.00      97\n",
       "0.23      44\n",
       "3.00      41\n",
       "0.36      41\n",
       "        ... \n",
       "9.67       1\n",
       "8.31       1\n",
       "9.38       1\n",
       "12.15      1\n",
       "7.30       1\n",
       "Name: reviews_per_month, Length: 786, dtype: int64"
      ]
     },
     "execution_count": 425,
     "metadata": {},
     "output_type": "execute_result"
    }
   ],
   "source": [
    "df_clean_sub.reviews_per_month.value_counts()"
   ]
  },
  {
   "cell_type": "code",
   "execution_count": 426,
   "id": "solved-superior",
   "metadata": {},
   "outputs": [
    {
     "data": {
      "image/png": "[encoded data removed]",
      "text/plain": [
       "<Figure size 432x288 with 1 Axes>"
      ]
     },
     "metadata": {
      "needs_background": "light"
     },
     "output_type": "display_data"
    }
   ],
   "source": [
    "plt.scatter(data = df_clean_sub, x = 'reviews_per_month', y = 'price', alpha = 1/10)\n",
    "plt.xlabel('reviews_per_month')\n",
    "plt.ylabel('price')\n",
    "plt.title('Influence of reviews_per_month for price');"
   ]
  },
  {
   "cell_type": "markdown",
   "id": "excessive-intent",
   "metadata": {},
   "source": [
    "**last_review**"
   ]
  },
  {
   "cell_type": "code",
   "execution_count": 427,
   "id": "arabic-young",
   "metadata": {},
   "outputs": [
    {
     "data": {
      "text/plain": [
       "2016-09-05    108\n",
       "2016-09-01    105\n",
       "2016-01-02     95\n",
       "2015-12-01     91\n",
       "2016-08-28     89\n",
       "             ... \n",
       "2015-07-21      1\n",
       "2015-07-19      1\n",
       "2016-05-17      1\n",
       "2013-10-28      1\n",
       "2016-04-10      1\n",
       "Name: last_review, Length: 567, dtype: int64"
      ]
     },
     "execution_count": 427,
     "metadata": {},
     "output_type": "execute_result"
    }
   ],
   "source": [
    "df_clean_sub.last_review.value_counts()"
   ]
  },
  {
   "cell_type": "markdown",
   "id": "simple-saudi",
   "metadata": {},
   "source": [
    "*Reviews on itself don't seem to have that much influence for the price*"
   ]
  },
  {
   "cell_type": "markdown",
   "id": "alleged-brief",
   "metadata": {},
   "source": [
    "*Interesting is especially that there are not many reviews with a value below 8. 10 is the highest value for a review to get this seems not really relevant for the price.*"
   ]
  },
  {
   "cell_type": "markdown",
   "id": "analyzed-samuel",
   "metadata": {},
   "source": [
    "### 3.3 Is there a way to help predict the price for a new AirBNB room?"
   ]
  },
  {
   "cell_type": "markdown",
   "id": "welcome-sally",
   "metadata": {},
   "source": [
    "*So in the above chapters I found out what factors are influencial (there might be more, but I will start with those) for the price and now I want to know if I'm able to predict the price for a new AirBNB room. I'm gonna use regression (normalize it) here.*"
   ]
  },
  {
   "cell_type": "code",
   "execution_count": 428,
   "id": "plastic-storm",
   "metadata": {},
   "outputs": [
    {
     "data": {
      "text/plain": [
       "0"
      ]
     },
     "execution_count": 428,
     "metadata": {},
     "output_type": "execute_result"
    }
   ],
   "source": [
    "#checking if there are nulls in price\n",
    "df_clean_sub.price.isnull().sum()"
   ]
  },
  {
   "cell_type": "code",
   "execution_count": 429,
   "id": "accepting-emergency",
   "metadata": {},
   "outputs": [
    {
     "name": "stdout",
     "output_type": "stream",
     "text": [
      "beds = 0\n",
      "bedrooms = 0\n",
      "bathrooms = 0\n",
      "bed_type = 0\n",
      "cleaning_fee = 0\n",
      "state = 0\n"
     ]
    }
   ],
   "source": [
    "#for my prediction I'm gonna take the number of beds, bedrooms, bathrooms, bed_types, cleaning_fee and state \n",
    "#into consideration.\n",
    "#check if there are lines with no information in it\n",
    "print('beds = ' + str(df_clean_sub.beds.isnull().sum()))\n",
    "print('bedrooms = ' + str(df_clean_sub.bedrooms.isnull().sum()))\n",
    "print('bathrooms = ' + str(df_clean_sub.bathrooms.isnull().sum()))\n",
    "print('bed_type = ' + str(df_clean_sub.bed_type.isnull().sum()))\n",
    "print('cleaning_fee = ' + str(df_clean_sub.cleaning_fee.isnull().sum()))\n",
    "print('state = ' + str(df_clean_sub.state.isnull().sum()))"
   ]
  },
  {
   "cell_type": "code",
   "execution_count": 431,
   "id": "communist-neighborhood",
   "metadata": {},
   "outputs": [],
   "source": [
    "#create dummy variables for bed_type and state\n",
    "col = ['state', 'bed_type']\n",
    "\n",
    "for var in col:\n",
    "    df_clean_sub = pd.concat([df_clean_sub.drop(var, axis = 1), pd.get_dummies(df_clean_sub[var], prefix = var, prefix_sep = '_', drop_first = True)], axis =1)"
   ]
  },
  {
   "cell_type": "code",
   "execution_count": 432,
   "id": "outstanding-commodity",
   "metadata": {},
   "outputs": [
    {
     "data": {
      "text/html": [
       "<div>\n",
       "<style scoped>\n",
       "    .dataframe tbody tr th:only-of-type {\n",
       "        vertical-align: middle;\n",
       "    }\n",
       "\n",
       "    .dataframe tbody tr th {\n",
       "        vertical-align: top;\n",
       "    }\n",
       "\n",
       "    .dataframe thead th {\n",
       "        text-align: right;\n",
       "    }\n",
       "</style>\n",
       "<table border=\"1\" class=\"dataframe\">\n",
       "  <thead>\n",
       "    <tr style=\"text-align: right;\">\n",
       "      <th></th>\n",
       "      <th>id</th>\n",
       "      <th>scrape_id</th>\n",
       "      <th>last_scraped</th>\n",
       "      <th>name</th>\n",
       "      <th>summary</th>\n",
       "      <th>space</th>\n",
       "      <th>description</th>\n",
       "      <th>experiences_offered</th>\n",
       "      <th>neighborhood_overview</th>\n",
       "      <th>notes</th>\n",
       "      <th>...</th>\n",
       "      <th>require_guest_profile_picture</th>\n",
       "      <th>require_guest_phone_verification</th>\n",
       "      <th>calculated_host_listings_count</th>\n",
       "      <th>reviews_per_month</th>\n",
       "      <th>price_seg</th>\n",
       "      <th>state_WA</th>\n",
       "      <th>bed_type_Couch</th>\n",
       "      <th>bed_type_Futon</th>\n",
       "      <th>bed_type_Pull-out Sofa</th>\n",
       "      <th>bed_type_Real Bed</th>\n",
       "    </tr>\n",
       "  </thead>\n",
       "  <tbody>\n",
       "    <tr>\n",
       "      <th>0</th>\n",
       "      <td>12147973</td>\n",
       "      <td>20160906204935</td>\n",
       "      <td>2016-09-07</td>\n",
       "      <td>Sunny Bungalow in the City</td>\n",
       "      <td>Cozy, sunny, family home.  Master bedroom high...</td>\n",
       "      <td>The house has an open and cozy feel at the sam...</td>\n",
       "      <td>Cozy, sunny, family home.  Master bedroom high...</td>\n",
       "      <td>none</td>\n",
       "      <td>Roslindale is quiet, convenient and friendly. ...</td>\n",
       "      <td>NaN</td>\n",
       "      <td>...</td>\n",
       "      <td>f</td>\n",
       "      <td>f</td>\n",
       "      <td>1</td>\n",
       "      <td>NaN</td>\n",
       "      <td>high</td>\n",
       "      <td>0</td>\n",
       "      <td>0</td>\n",
       "      <td>0</td>\n",
       "      <td>0</td>\n",
       "      <td>1</td>\n",
       "    </tr>\n",
       "    <tr>\n",
       "      <th>1</th>\n",
       "      <td>3075044</td>\n",
       "      <td>20160906204935</td>\n",
       "      <td>2016-09-07</td>\n",
       "      <td>Charming room in pet friendly apt</td>\n",
       "      <td>Charming and quiet room in a second floor 1910...</td>\n",
       "      <td>Small but cozy and quite room with a full size...</td>\n",
       "      <td>Charming and quiet room in a second floor 1910...</td>\n",
       "      <td>none</td>\n",
       "      <td>The room is in Roslindale, a diverse and prima...</td>\n",
       "      <td>If you don't have a US cell phone, you can tex...</td>\n",
       "      <td>...</td>\n",
       "      <td>f</td>\n",
       "      <td>f</td>\n",
       "      <td>1</td>\n",
       "      <td>1.30</td>\n",
       "      <td>low</td>\n",
       "      <td>0</td>\n",
       "      <td>0</td>\n",
       "      <td>0</td>\n",
       "      <td>0</td>\n",
       "      <td>1</td>\n",
       "    </tr>\n",
       "    <tr>\n",
       "      <th>2</th>\n",
       "      <td>6976</td>\n",
       "      <td>20160906204935</td>\n",
       "      <td>2016-09-07</td>\n",
       "      <td>Mexican Folk Art Haven in Boston</td>\n",
       "      <td>Come stay with a friendly, middle-aged guy in ...</td>\n",
       "      <td>Come stay with a friendly, middle-aged guy in ...</td>\n",
       "      <td>Come stay with a friendly, middle-aged guy in ...</td>\n",
       "      <td>none</td>\n",
       "      <td>The LOCATION: Roslindale is a safe and diverse...</td>\n",
       "      <td>I am in a scenic part of Boston with a couple ...</td>\n",
       "      <td>...</td>\n",
       "      <td>t</td>\n",
       "      <td>f</td>\n",
       "      <td>1</td>\n",
       "      <td>0.47</td>\n",
       "      <td>low</td>\n",
       "      <td>0</td>\n",
       "      <td>0</td>\n",
       "      <td>0</td>\n",
       "      <td>0</td>\n",
       "      <td>1</td>\n",
       "    </tr>\n",
       "    <tr>\n",
       "      <th>3</th>\n",
       "      <td>1436513</td>\n",
       "      <td>20160906204935</td>\n",
       "      <td>2016-09-07</td>\n",
       "      <td>Spacious Sunny Bedroom Suite in Historic Home</td>\n",
       "      <td>Come experience the comforts of home away from...</td>\n",
       "      <td>Most places you find in Boston are small howev...</td>\n",
       "      <td>Come experience the comforts of home away from...</td>\n",
       "      <td>none</td>\n",
       "      <td>Roslindale is a lovely little neighborhood loc...</td>\n",
       "      <td>Please be mindful of the property as it is old...</td>\n",
       "      <td>...</td>\n",
       "      <td>f</td>\n",
       "      <td>f</td>\n",
       "      <td>1</td>\n",
       "      <td>1.00</td>\n",
       "      <td>low</td>\n",
       "      <td>0</td>\n",
       "      <td>0</td>\n",
       "      <td>0</td>\n",
       "      <td>0</td>\n",
       "      <td>1</td>\n",
       "    </tr>\n",
       "    <tr>\n",
       "      <th>4</th>\n",
       "      <td>7651065</td>\n",
       "      <td>20160906204935</td>\n",
       "      <td>2016-09-07</td>\n",
       "      <td>Come Home to Boston</td>\n",
       "      <td>My comfy, clean and relaxing home is one block...</td>\n",
       "      <td>Clean, attractive, private room, one block fro...</td>\n",
       "      <td>My comfy, clean and relaxing home is one block...</td>\n",
       "      <td>none</td>\n",
       "      <td>I love the proximity to downtown, the neighbor...</td>\n",
       "      <td>I have one roommate who lives on the lower lev...</td>\n",
       "      <td>...</td>\n",
       "      <td>f</td>\n",
       "      <td>f</td>\n",
       "      <td>1</td>\n",
       "      <td>2.25</td>\n",
       "      <td>middle_low</td>\n",
       "      <td>0</td>\n",
       "      <td>0</td>\n",
       "      <td>0</td>\n",
       "      <td>0</td>\n",
       "      <td>1</td>\n",
       "    </tr>\n",
       "  </tbody>\n",
       "</table>\n",
       "<p>5 rows × 82 columns</p>\n",
       "</div>"
      ],
      "text/plain": [
       "         id       scrape_id last_scraped  \\\n",
       "0  12147973  20160906204935   2016-09-07   \n",
       "1   3075044  20160906204935   2016-09-07   \n",
       "2      6976  20160906204935   2016-09-07   \n",
       "3   1436513  20160906204935   2016-09-07   \n",
       "4   7651065  20160906204935   2016-09-07   \n",
       "\n",
       "                                            name  \\\n",
       "0                     Sunny Bungalow in the City   \n",
       "1              Charming room in pet friendly apt   \n",
       "2               Mexican Folk Art Haven in Boston   \n",
       "3  Spacious Sunny Bedroom Suite in Historic Home   \n",
       "4                            Come Home to Boston   \n",
       "\n",
       "                                             summary  \\\n",
       "0  Cozy, sunny, family home.  Master bedroom high...   \n",
       "1  Charming and quiet room in a second floor 1910...   \n",
       "2  Come stay with a friendly, middle-aged guy in ...   \n",
       "3  Come experience the comforts of home away from...   \n",
       "4  My comfy, clean and relaxing home is one block...   \n",
       "\n",
       "                                               space  \\\n",
       "0  The house has an open and cozy feel at the sam...   \n",
       "1  Small but cozy and quite room with a full size...   \n",
       "2  Come stay with a friendly, middle-aged guy in ...   \n",
       "3  Most places you find in Boston are small howev...   \n",
       "4  Clean, attractive, private room, one block fro...   \n",
       "\n",
       "                                         description experiences_offered  \\\n",
       "0  Cozy, sunny, family home.  Master bedroom high...                none   \n",
       "1  Charming and quiet room in a second floor 1910...                none   \n",
       "2  Come stay with a friendly, middle-aged guy in ...                none   \n",
       "3  Come experience the comforts of home away from...                none   \n",
       "4  My comfy, clean and relaxing home is one block...                none   \n",
       "\n",
       "                               neighborhood_overview  \\\n",
       "0  Roslindale is quiet, convenient and friendly. ...   \n",
       "1  The room is in Roslindale, a diverse and prima...   \n",
       "2  The LOCATION: Roslindale is a safe and diverse...   \n",
       "3  Roslindale is a lovely little neighborhood loc...   \n",
       "4  I love the proximity to downtown, the neighbor...   \n",
       "\n",
       "                                               notes  ...  \\\n",
       "0                                                NaN  ...   \n",
       "1  If you don't have a US cell phone, you can tex...  ...   \n",
       "2  I am in a scenic part of Boston with a couple ...  ...   \n",
       "3  Please be mindful of the property as it is old...  ...   \n",
       "4  I have one roommate who lives on the lower lev...  ...   \n",
       "\n",
       "  require_guest_profile_picture  require_guest_phone_verification  \\\n",
       "0                             f                                 f   \n",
       "1                             f                                 f   \n",
       "2                             t                                 f   \n",
       "3                             f                                 f   \n",
       "4                             f                                 f   \n",
       "\n",
       "  calculated_host_listings_count reviews_per_month   price_seg state_WA  \\\n",
       "0                              1               NaN        high        0   \n",
       "1                              1              1.30         low        0   \n",
       "2                              1              0.47         low        0   \n",
       "3                              1              1.00         low        0   \n",
       "4                              1              2.25  middle_low        0   \n",
       "\n",
       "  bed_type_Couch bed_type_Futon bed_type_Pull-out Sofa bed_type_Real Bed  \n",
       "0              0              0                      0                 1  \n",
       "1              0              0                      0                 1  \n",
       "2              0              0                      0                 1  \n",
       "3              0              0                      0                 1  \n",
       "4              0              0                      0                 1  \n",
       "\n",
       "[5 rows x 82 columns]"
      ]
     },
     "execution_count": 432,
     "metadata": {},
     "output_type": "execute_result"
    }
   ],
   "source": [
    "df_clean_sub.head()"
   ]
  },
  {
   "cell_type": "code",
   "execution_count": 443,
   "id": "yellow-hanging",
   "metadata": {},
   "outputs": [],
   "source": [
    "#split into train and test data, test size = 30%\n",
    "#random state = 42 so you'll get the same results\n",
    "\n",
    "X = df_clean_sub[['beds', 'bedrooms', 'bathrooms', 'cleaning_fee', 'state_WA', 'bed_type_Couch', 'bed_type_Futon', 'bed_type_Pull-out Sofa', 'bed_type_Real Bed']]\n",
    "y = df_clean_sub['price']\n",
    "\n",
    "X_train, X_test, y_train, y_test = train_test_split(X, y, test_size= 0.3, random_state = 42)"
   ]
  },
  {
   "cell_type": "code",
   "execution_count": 444,
   "id": "documented-heritage",
   "metadata": {},
   "outputs": [],
   "source": [
    "#Instantiate\n",
    "lm_model = LinearRegression(normalize = True)"
   ]
  },
  {
   "cell_type": "code",
   "execution_count": 445,
   "id": "interracial-chase",
   "metadata": {},
   "outputs": [
    {
     "data": {
      "text/plain": [
       "LinearRegression(normalize=True)"
      ]
     },
     "execution_count": 445,
     "metadata": {},
     "output_type": "execute_result"
    }
   ],
   "source": [
    "#Fit \n",
    "lm_model.fit(X_train, y_train)"
   ]
  },
  {
   "cell_type": "code",
   "execution_count": 446,
   "id": "elect-brisbane",
   "metadata": {},
   "outputs": [
    {
     "name": "stdout",
     "output_type": "stream",
     "text": [
      "0.4034393051232473\n"
     ]
    }
   ],
   "source": [
    "#predict and score\n",
    "y_test_preds = lm_model.predict(X_test)\n",
    "r2 = r2_score(y_test, y_test_preds)\n",
    "\n",
    "print(r2)"
   ]
  },
  {
   "cell_type": "markdown",
   "id": "simplified-motivation",
   "metadata": {},
   "source": [
    "*the columns I used are not quite enough to give a good prediction for a price for a new room in AirBNB. There might be other data that influences the price as well.*"
   ]
  },
  {
   "cell_type": "markdown",
   "id": "surrounded-cooperation",
   "metadata": {},
   "source": [
    "## 4. Conclusion"
   ]
  },
  {
   "cell_type": "markdown",
   "id": "surrounded-integration",
   "metadata": {},
   "source": [
    "### 4.1 What influences the price of AirBNB rooms?"
   ]
  },
  {
   "cell_type": "markdown",
   "id": "everyday-slovak",
   "metadata": {},
   "source": [
    "If I look at the histogramm of the price, I see that there are some outliners in the price segment."
   ]
  },
  {
   "cell_type": "code",
   "execution_count": 92,
   "id": "opposed-package",
   "metadata": {},
   "outputs": [
    {
     "data": {
      "image/png": "[encoded data removed]",
      "text/plain": [
       "<Figure size 576x360 with 1 Axes>"
      ]
     },
     "metadata": {
      "needs_background": "light"
     },
     "output_type": "display_data"
    }
   ],
   "source": [
    "# start with a standard-scaled plot\n",
    "binsize = 10\n",
    "bins = np.arange(0, df_list_clean['price'].max()+binsize, binsize)\n",
    "\n",
    "plt.figure(figsize=[8, 5])\n",
    "\n",
    "myHistPlot(df_list_clean, 'price', bins)"
   ]
  },
  {
   "cell_type": "markdown",
   "id": "reserved-definition",
   "metadata": {},
   "source": [
    "If I exclude the top 5 % of the outliners I discover that most prices are between 50 and 150 Dollars."
   ]
  },
  {
   "cell_type": "code",
   "execution_count": 93,
   "id": "completed-devices",
   "metadata": {},
   "outputs": [
    {
     "data": {
      "image/png": "[encoded data removed]",
      "text/plain": [
       "<Figure size 576x360 with 1 Axes>"
      ]
     },
     "metadata": {
      "needs_background": "light"
     },
     "output_type": "display_data"
    }
   ],
   "source": [
    "#without outliers (5%)\n",
    "\n",
    "binsize = 10\n",
    "bins = np.arange(0, df_list_clean['price'].quantile(0.95)+binsize, binsize)\n",
    "\n",
    "plt.figure(figsize=[8,5])\n",
    "\n",
    "myHistPlot(df_list_clean, 'price', bins)\n",
    "plt.title('Distribution of price\\n(excluding top 5%)'.title(), fontsize=14, weight='bold');"
   ]
  },
  {
   "cell_type": "markdown",
   "id": "logical-number",
   "metadata": {},
   "source": [
    "For the furhter investigation I only took the subset without the price outliners."
   ]
  },
  {
   "cell_type": "markdown",
   "id": "reliable-office",
   "metadata": {},
   "source": [
    "I found out that number of beds, bedtypes, number of bathrooms and bedrooms as well as clenaing_fee and the state are important for the price of an AirBNB room."
   ]
  },
  {
   "cell_type": "markdown",
   "id": "mediterranean-interim",
   "metadata": {},
   "source": [
    "Especially interessting was that if the AirBNB has 2 bathrooms it is much more likely to have a really high price for the room."
   ]
  },
  {
   "cell_type": "code",
   "execution_count": 94,
   "id": "tight-modeling",
   "metadata": {},
   "outputs": [
    {
     "data": {
      "image/png": "[encoded data removed]",
      "text/plain": [
       "<Figure size 432x288 with 1 Axes>"
      ]
     },
     "metadata": {
      "needs_background": "light"
     },
     "output_type": "display_data"
    }
   ],
   "source": [
    "myplt(df_clean_sub, 'bathrooms', 'price_seg')"
   ]
  },
  {
   "cell_type": "markdown",
   "id": "spectacular-council",
   "metadata": {},
   "source": [
    "### 4.2 Are the reviews relevant for the price?"
   ]
  },
  {
   "cell_type": "markdown",
   "id": "adult-satisfaction",
   "metadata": {},
   "source": [
    "Again (as above) I only looked at the subdataset without the price outliners. After having a closer look at number of reviews, scores values and reviews per month I came to the conclusion that they aren't as influencial for the price as i suspected. "
   ]
  },
  {
   "cell_type": "markdown",
   "id": "cardiac-beverage",
   "metadata": {},
   "source": [
    "But I discovered an other interesting fact: There aren't many reviews below 8, 10 beeing the highest score here. So the reviews in itself don't seem to be that relevant for the price."
   ]
  },
  {
   "cell_type": "code",
   "execution_count": 95,
   "id": "aerial-repair",
   "metadata": {},
   "outputs": [
    {
     "data": {
      "image/png": "[encoded data removed]",
      "text/plain": [
       "<Figure size 432x288 with 1 Axes>"
      ]
     },
     "metadata": {
      "needs_background": "light"
     },
     "output_type": "display_data"
    }
   ],
   "source": [
    "myplt(df_clean_sub, 'review_scores_value', 'price_seg')"
   ]
  },
  {
   "cell_type": "markdown",
   "id": "southern-contrast",
   "metadata": {},
   "source": [
    "### 4.3 Predicting the price for a new AirBNB room?"
   ]
  },
  {
   "cell_type": "markdown",
   "id": "aware-klein",
   "metadata": {},
   "source": [
    "The first thing I did was checking if the price (which I want to predict) and the columns which I thought are responsible for the price are without nulls. After that I created dummy-Variables for those columns which are not a number (bed_type and state)."
   ]
  },
  {
   "cell_type": "markdown",
   "id": "greatest-equality",
   "metadata": {},
   "source": [
    "After splitting the data in test and train data, I used regression for prediction. I've got a r2 score of approyimately 0.4. so it seems there are other things that influence the price as well:"
   ]
  },
  {
   "cell_type": "code",
   "execution_count": 448,
   "id": "interpreted-concrete",
   "metadata": {},
   "outputs": [
    {
     "name": "stdout",
     "output_type": "stream",
     "text": [
      "the r-squared score for this model is 0.4034393051232473 on 2112 values.\n"
     ]
    }
   ],
   "source": [
    "print('the r-squared score for this model is {} on {} values.'.format(r2, len(y_test)))"
   ]
  }
 ],
 "metadata": {
  "kernelspec": {
   "display_name": "Python 3",
   "language": "python",
   "name": "python3"
  },
  "language_info": {
   "codemirror_mode": {
    "name": "ipython",
    "version": 3
   },
   "file_extension": ".py",
   "mimetype": "text/x-python",
   "name": "python",
   "nbconvert_exporter": "python",
   "pygments_lexer": "ipython3",
   "version": "3.8.8"
  }
 },
 "nbformat": 4,
 "nbformat_minor": 5
}
